{
 "cells": [
  {
   "cell_type": "code",
   "execution_count": 44,
   "id": "207025f9",
   "metadata": {},
   "outputs": [],
   "source": [
    "import pandas as pd\n",
    "import numpy as np\n",
    "from sklearn.linear_model import LinearRegression"
   ]
  },
  {
   "cell_type": "code",
   "execution_count": 12,
   "id": "f9007ef2",
   "metadata": {},
   "outputs": [
    {
     "data": {
      "text/html": [
       "<div>\n",
       "<style scoped>\n",
       "    .dataframe tbody tr th:only-of-type {\n",
       "        vertical-align: middle;\n",
       "    }\n",
       "\n",
       "    .dataframe tbody tr th {\n",
       "        vertical-align: top;\n",
       "    }\n",
       "\n",
       "    .dataframe thead th {\n",
       "        text-align: right;\n",
       "    }\n",
       "</style>\n",
       "<table border=\"1\" class=\"dataframe\">\n",
       "  <thead>\n",
       "    <tr style=\"text-align: right;\">\n",
       "      <th></th>\n",
       "      <th>id</th>\n",
       "      <th>X</th>\n",
       "      <th>Y</th>\n",
       "    </tr>\n",
       "  </thead>\n",
       "  <tbody>\n",
       "    <tr>\n",
       "      <th>0</th>\n",
       "      <td>1</td>\n",
       "      <td>12</td>\n",
       "      <td>20</td>\n",
       "    </tr>\n",
       "    <tr>\n",
       "      <th>1</th>\n",
       "      <td>2</td>\n",
       "      <td>14</td>\n",
       "      <td>41</td>\n",
       "    </tr>\n",
       "    <tr>\n",
       "      <th>2</th>\n",
       "      <td>3</td>\n",
       "      <td>24</td>\n",
       "      <td>62</td>\n",
       "    </tr>\n",
       "    <tr>\n",
       "      <th>3</th>\n",
       "      <td>4</td>\n",
       "      <td>13</td>\n",
       "      <td>23</td>\n",
       "    </tr>\n",
       "    <tr>\n",
       "      <th>4</th>\n",
       "      <td>5</td>\n",
       "      <td>15</td>\n",
       "      <td>28</td>\n",
       "    </tr>\n",
       "    <tr>\n",
       "      <th>5</th>\n",
       "      <td>6</td>\n",
       "      <td>5</td>\n",
       "      <td>14</td>\n",
       "    </tr>\n",
       "    <tr>\n",
       "      <th>6</th>\n",
       "      <td>7</td>\n",
       "      <td>16</td>\n",
       "      <td>33</td>\n",
       "    </tr>\n",
       "    <tr>\n",
       "      <th>7</th>\n",
       "      <td>8</td>\n",
       "      <td>20</td>\n",
       "      <td>36</td>\n",
       "    </tr>\n",
       "    <tr>\n",
       "      <th>8</th>\n",
       "      <td>9</td>\n",
       "      <td>3</td>\n",
       "      <td>9</td>\n",
       "    </tr>\n",
       "    <tr>\n",
       "      <th>9</th>\n",
       "      <td>10</td>\n",
       "      <td>8</td>\n",
       "      <td>20</td>\n",
       "    </tr>\n",
       "  </tbody>\n",
       "</table>\n",
       "</div>"
      ],
      "text/plain": [
       "   id   X   Y\n",
       "0   1  12  20\n",
       "1   2  14  41\n",
       "2   3  24  62\n",
       "3   4  13  23\n",
       "4   5  15  28\n",
       "5   6   5  14\n",
       "6   7  16  33\n",
       "7   8  20  36\n",
       "8   9   3   9\n",
       "9  10   8  20"
      ]
     },
     "execution_count": 12,
     "metadata": {},
     "output_type": "execute_result"
    }
   ],
   "source": [
    "DATA = pd.read_csv(\"dataset.csv\", delimiter=',')\n",
    "DATA"
   ]
  },
  {
   "cell_type": "code",
   "execution_count": 107,
   "id": "d144696e",
   "metadata": {},
   "outputs": [],
   "source": [
    "# Растчет оценок линейной регресси численным методом\n",
    "mean_X = DATA[\"X\"].sum()/len(DATA)\n",
    "mean_Y = DATA[\"Y\"].sum()/len(DATA)\n",
    "mean_X\n",
    "sumCH = 0\n",
    "sumTH = 0\n",
    "for i in range(len(DATA)):\n",
    "    sumCH += (DATA.loc[i][\"X\"]-mean_X) * (DATA.loc[i][\"Y\"]-mean_Y)\n",
    "    sumTH += (DATA.loc[i][\"X\"]-mean_X) ** 2\n",
    "teta1 = sumCH/sumTH\n",
    "teta0 = mean_Y - teta1 * mean_X"
   ]
  },
  {
   "cell_type": "code",
   "execution_count": 108,
   "id": "9d26691f",
   "metadata": {},
   "outputs": [
    {
     "name": "stdout",
     "output_type": "stream",
     "text": [
      "2.160427807486631\n",
      "0.5144385026737943\n"
     ]
    }
   ],
   "source": [
    "print(\"tata1 = \" + teta1)\n",
    "print(\"tata0 = \" + teta0)"
   ]
  },
  {
   "cell_type": "code",
   "execution_count": 138,
   "id": "f830e689",
   "metadata": {},
   "outputs": [
    {
     "name": "stdout",
     "output_type": "stream",
     "text": [
      "tata1 = [[2.16042781]]\n",
      "tata0 = [0.5144385]\n",
      "R_sq = 0.823253003418788\n"
     ]
    },
    {
     "name": "stderr",
     "output_type": "stream",
     "text": [
      "/home/proud/.local/lib/python3.8/site-packages/sklearn/base.py:450: UserWarning: X does not have valid feature names, but LinearRegression was fitted with feature names\n",
      "  warnings.warn(\n",
      "/home/proud/.local/lib/python3.8/site-packages/sklearn/base.py:450: UserWarning: X does not have valid feature names, but LinearRegression was fitted with feature names\n",
      "  warnings.warn(\n"
     ]
    }
   ],
   "source": [
    "#Расчет оценок линейной регреесии встроенными функциями\n",
    "x = pd.DataFrame(DATA.drop(['id', 'Y'], axis=1))\n",
    "y = pd.DataFrame(DATA['Y'])\n",
    "reg = LinearRegression().fit(x, y)\n",
    "reg.predict(np.array(DATA[\"Y\"]).reshape(-1, 1))\n",
    "\n",
    "actual = np.array(x).reshape(1, -1)\n",
    "predict = reg.predict(np.array(DATA[\"Y\"]).reshape(-1, 1))\n",
    "\n",
    "corr_matrix = numpy.corrcoef(actual, predict.reshape(1, -1))\n",
    "corr = corr_matrix[0,1]\n",
    "R_sq = corr**2\n",
    "\n",
    "actual = np.array(x).reshape(1, -1)\n",
    "print(\"tata1 = \" + str(reg.coef_))\n",
    "print(\"tata0 = \" + str(reg.intercept_))\n",
    "print(\"R_sq = \" + str(R_sq))"
   ]
  },
  {
   "cell_type": "code",
   "execution_count": null,
   "id": "bcbf2ee4",
   "metadata": {},
   "outputs": [],
   "source": []
  }
 ],
 "metadata": {
  "kernelspec": {
   "display_name": "Python 3 (ipykernel)",
   "language": "python",
   "name": "python3"
  },
  "language_info": {
   "codemirror_mode": {
    "name": "ipython",
    "version": 3
   },
   "file_extension": ".py",
   "mimetype": "text/x-python",
   "name": "python",
   "nbconvert_exporter": "python",
   "pygments_lexer": "ipython3",
   "version": "3.8.10"
  }
 },
 "nbformat": 4,
 "nbformat_minor": 5
}
